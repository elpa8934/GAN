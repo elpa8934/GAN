{
 "cells": [
  {
   "cell_type": "markdown",
   "metadata": {},
   "source": [
    "# GAN Project\n",
    "## Liz Parker, Colin Craighead, and Aren Dalloul"
   ]
  },
  {
   "cell_type": "code",
   "execution_count": 79,
   "metadata": {},
   "outputs": [],
   "source": [
    "import numpy as np\n",
    "import matplotlib.pyplot as plt\n",
    "import pandas as pd\n",
    "import tensorflow as tf\n",
    "from keras import layers\n",
    "from keras import models\n",
    "from keras import utils\n",
    "from keras.optimizers import Adam\n",
    "import tensorflow.keras.preprocessing.image as img\n",
    "import scipy.io\n",
    "\n",
    "from keras.datasets.mnist import load_data\n",
    "from numpy import expand_dims\n",
    "from numpy import ones\n",
    "from numpy import zeros\n",
    "from numpy.random import rand\n",
    "from numpy.random import randint\n",
    "from keras.models import Sequential\n",
    "from keras.layers import Dense\n",
    "from keras.layers import Conv2D\n",
    "from keras.layers import Flatten\n",
    "from keras.layers import Dropout\n",
    "from keras.layers import LeakyReLU\n",
    "\n",
    "from PIL import Image"
   ]
  },
  {
   "cell_type": "markdown",
   "metadata": {},
   "source": [
    "## Preparing the Dataset"
   ]
  },
  {
   "cell_type": "code",
   "execution_count": null,
   "metadata": {},
   "outputs": [],
   "source": []
  },
  {
   "cell_type": "code",
   "execution_count": null,
   "metadata": {},
   "outputs": [],
   "source": []
  },
  {
   "cell_type": "code",
   "execution_count": null,
   "metadata": {},
   "outputs": [],
   "source": []
  },
  {
   "cell_type": "code",
   "execution_count": 29,
   "metadata": {},
   "outputs": [
    {
     "data": {
      "text/plain": [
       "array([0.], dtype=float32)"
      ]
     },
     "execution_count": 29,
     "metadata": {},
     "output_type": "execute_result"
    }
   ],
   "source": []
  },
  {
   "cell_type": "code",
   "execution_count": 2,
   "metadata": {},
   "outputs": [],
   "source": [
    "test_mat = scipy.io.loadmat(\"data/test_data.mat\")\n",
    "train_mat = scipy.io.loadmat(\"data/train_data.mat\")"
   ]
  },
  {
   "cell_type": "code",
   "execution_count": 7,
   "metadata": {},
   "outputs": [],
   "source": [
    "def unpack_mat(mat, train_or_test):\n",
    "    df = pd.DataFrame()\n",
    "    paths = []\n",
    "    breeds = []\n",
    "    breed_ids = []\n",
    "    num_datapoints = len(mat[train_or_test][0][0][0])\n",
    "    for i in range(num_datapoints):\n",
    "        path = \"images/\" + mat[train_or_test][0][0][0][i][0][0]\n",
    "        paths.append(path)\n",
    "        temp_arr = mat[train_or_test][0][0][1][i][0][0].strip().split('-')\n",
    "        breed_str = \"-\".join(temp_arr[1:]).split('/')[0]\n",
    "        breeds.append(breed_str)\n",
    "        breed_ids.append(mat[train_or_test][0][0][2][i][0])\n",
    "    df['breed'] = breeds\n",
    "    df['breed_id'] = breed_ids\n",
    "    df['path'] = paths\n",
    "    return df"
   ]
  },
  {
   "cell_type": "code",
   "execution_count": 8,
   "metadata": {},
   "outputs": [],
   "source": [
    "train_df = unpack_mat(train_mat, 'train_info')\n",
    "test_df = unpack_mat(test_mat, 'test_info')\n",
    "train_df.head()\n",
    "\n",
    "#TO REMOVE !!!!!!!!!!!!!\n",
    "train_df = train_df.truncate(after = 1000)"
   ]
  },
  {
   "cell_type": "code",
   "execution_count": 56,
   "metadata": {},
   "outputs": [
    {
     "data": {
      "text/html": [
       "<div>\n",
       "<style scoped>\n",
       "    .dataframe tbody tr th:only-of-type {\n",
       "        vertical-align: middle;\n",
       "    }\n",
       "\n",
       "    .dataframe tbody tr th {\n",
       "        vertical-align: top;\n",
       "    }\n",
       "\n",
       "    .dataframe thead th {\n",
       "        text-align: right;\n",
       "    }\n",
       "</style>\n",
       "<table border=\"1\" class=\"dataframe\">\n",
       "  <thead>\n",
       "    <tr style=\"text-align: right;\">\n",
       "      <th></th>\n",
       "      <th>breed</th>\n",
       "      <th>breed_id</th>\n",
       "      <th>path</th>\n",
       "    </tr>\n",
       "  </thead>\n",
       "  <tbody>\n",
       "    <tr>\n",
       "      <th>0</th>\n",
       "      <td>Chihuahua</td>\n",
       "      <td>1</td>\n",
       "      <td>images/n02085620-Chihuahua/n02085620_5927.jpg</td>\n",
       "    </tr>\n",
       "    <tr>\n",
       "      <th>1</th>\n",
       "      <td>Chihuahua</td>\n",
       "      <td>1</td>\n",
       "      <td>images/n02085620-Chihuahua/n02085620_4441.jpg</td>\n",
       "    </tr>\n",
       "    <tr>\n",
       "      <th>2</th>\n",
       "      <td>Chihuahua</td>\n",
       "      <td>1</td>\n",
       "      <td>images/n02085620-Chihuahua/n02085620_1502.jpg</td>\n",
       "    </tr>\n",
       "    <tr>\n",
       "      <th>3</th>\n",
       "      <td>Chihuahua</td>\n",
       "      <td>1</td>\n",
       "      <td>images/n02085620-Chihuahua/n02085620_1916.jpg</td>\n",
       "    </tr>\n",
       "    <tr>\n",
       "      <th>4</th>\n",
       "      <td>Chihuahua</td>\n",
       "      <td>1</td>\n",
       "      <td>images/n02085620-Chihuahua/n02085620_13151.jpg</td>\n",
       "    </tr>\n",
       "    <tr>\n",
       "      <th>...</th>\n",
       "      <td>...</td>\n",
       "      <td>...</td>\n",
       "      <td>...</td>\n",
       "    </tr>\n",
       "    <tr>\n",
       "      <th>996</th>\n",
       "      <td>Afghan_hound</td>\n",
       "      <td>10</td>\n",
       "      <td>images/n02088094-Afghan_hound/n02088094_2522.jpg</td>\n",
       "    </tr>\n",
       "    <tr>\n",
       "      <th>997</th>\n",
       "      <td>Afghan_hound</td>\n",
       "      <td>10</td>\n",
       "      <td>images/n02088094-Afghan_hound/n02088094_5436.jpg</td>\n",
       "    </tr>\n",
       "    <tr>\n",
       "      <th>998</th>\n",
       "      <td>Afghan_hound</td>\n",
       "      <td>10</td>\n",
       "      <td>images/n02088094-Afghan_hound/n02088094_4635.jpg</td>\n",
       "    </tr>\n",
       "    <tr>\n",
       "      <th>999</th>\n",
       "      <td>Afghan_hound</td>\n",
       "      <td>10</td>\n",
       "      <td>images/n02088094-Afghan_hound/n02088094_4598.jpg</td>\n",
       "    </tr>\n",
       "    <tr>\n",
       "      <th>1000</th>\n",
       "      <td>basset</td>\n",
       "      <td>11</td>\n",
       "      <td>images/n02088238-basset/n02088238_12427.jpg</td>\n",
       "    </tr>\n",
       "  </tbody>\n",
       "</table>\n",
       "<p>1001 rows × 3 columns</p>\n",
       "</div>"
      ],
      "text/plain": [
       "             breed  breed_id                                              path\n",
       "0        Chihuahua         1     images/n02085620-Chihuahua/n02085620_5927.jpg\n",
       "1        Chihuahua         1     images/n02085620-Chihuahua/n02085620_4441.jpg\n",
       "2        Chihuahua         1     images/n02085620-Chihuahua/n02085620_1502.jpg\n",
       "3        Chihuahua         1     images/n02085620-Chihuahua/n02085620_1916.jpg\n",
       "4        Chihuahua         1    images/n02085620-Chihuahua/n02085620_13151.jpg\n",
       "...            ...       ...                                               ...\n",
       "996   Afghan_hound        10  images/n02088094-Afghan_hound/n02088094_2522.jpg\n",
       "997   Afghan_hound        10  images/n02088094-Afghan_hound/n02088094_5436.jpg\n",
       "998   Afghan_hound        10  images/n02088094-Afghan_hound/n02088094_4635.jpg\n",
       "999   Afghan_hound        10  images/n02088094-Afghan_hound/n02088094_4598.jpg\n",
       "1000        basset        11       images/n02088238-basset/n02088238_12427.jpg\n",
       "\n",
       "[1001 rows x 3 columns]"
      ]
     },
     "execution_count": 56,
     "metadata": {},
     "output_type": "execute_result"
    }
   ],
   "source": [
    "train_df"
   ]
  },
  {
   "cell_type": "code",
   "execution_count": 57,
   "metadata": {},
   "outputs": [],
   "source": [
    "X_train = np.array([img.img_to_array(img.load_img(path, target_size = (400,400))) for path in train_df['path']])"
   ]
  },
  {
   "cell_type": "code",
   "execution_count": 45,
   "metadata": {},
   "outputs": [
    {
     "data": {
      "text/plain": [
       "<matplotlib.image.AxesImage at 0x15272dd10>"
      ]
     },
     "execution_count": 45,
     "metadata": {},
     "output_type": "execute_result"
    },
    {
     "data": {
      "image/png": "[encoded data removed]",
      "text/plain": [
       "<Figure size 432x288 with 1 Axes>"
      ]
     },
     "metadata": {
      "needs_background": "light"
     },
     "output_type": "display_data"
    }
   ],
   "source": [
    "plt.imshow(X_train[1].astype('uint8'))"
   ]
  },
  {
   "cell_type": "code",
   "execution_count": null,
   "metadata": {},
   "outputs": [],
   "source": []
  },
  {
   "cell_type": "code",
   "execution_count": 130,
   "metadata": {},
   "outputs": [],
   "source": [
    "#Build Descriminator\n",
    "\n",
    "descriminator = models.Sequential()\n",
    "descriminator.add(layers.Conv2D(128,(3,3), strides=(2, 2), input_shape=(400,400,3)))\n",
    "descriminator.add(layers.LeakyReLU(alpha=0.2))\n",
    "descriminator.add(layers.Conv2D(128,(3,3), strides=(2, 2)))\n",
    "descriminator.add(layers.LeakyReLU(alpha=0.2))\n",
    "#descriminator.add(Dropout(0.4))\n",
    "descriminator.add(Flatten())\n",
    "descriminator.add(layers.Dense(1, activation='sigmoid'))"
   ]
  },
  {
   "cell_type": "code",
   "execution_count": 131,
   "metadata": {
    "scrolled": true
   },
   "outputs": [
    {
     "name": "stdout",
     "output_type": "stream",
     "text": [
      "Model: \"sequential_3\"\n",
      "_________________________________________________________________\n",
      "Layer (type)                 Output Shape              Param #   \n",
      "=================================================================\n",
      "conv2d_5 (Conv2D)            (None, 199, 199, 128)     3584      \n",
      "_________________________________________________________________\n",
      "leaky_re_lu_5 (LeakyReLU)    (None, 199, 199, 128)     0         \n",
      "_________________________________________________________________\n",
      "conv2d_6 (Conv2D)            (None, 99, 99, 128)       147584    \n",
      "_________________________________________________________________\n",
      "leaky_re_lu_6 (LeakyReLU)    (None, 99, 99, 128)       0         \n",
      "_________________________________________________________________\n",
      "flatten_1 (Flatten)          (None, 1254528)           0         \n",
      "_________________________________________________________________\n",
      "dense_3 (Dense)              (None, 1)                 1254529   \n",
      "=================================================================\n",
      "Total params: 1,405,697\n",
      "Trainable params: 1,405,697\n",
      "Non-trainable params: 0\n",
      "_________________________________________________________________\n"
     ]
    }
   ],
   "source": [
    "opt = Adam(lr=0.0002, beta_1=0.5)\n",
    "descriminator.compile(loss='binary_crossentropy', optimizer=opt, metrics=['accuracy'])\n",
    "descriminator.summary()"
   ]
  },
  {
   "cell_type": "code",
   "execution_count": 132,
   "metadata": {},
   "outputs": [],
   "source": [
    "# load and prepare mnist training images\n",
    "def load_real_samples():\n",
    "    # expand to 3d, e.g. add channels dimension\n",
    "#     X = expand_dims(X_train, axis=-1)\n",
    "    # convert from unsigned ints to floats\n",
    "    X = X_train.astype('float32')\n",
    "    # scale from [0,255] to [0,1]\n",
    "    X = X / 255.0\n",
    "    return X\n",
    " \n",
    "# select real samples\n",
    "def generate_real_samples(dataset, n_samples):\n",
    "    # choose random instances\n",
    "    ix = randint(0, dataset.shape[0], n_samples)\n",
    "    # retrieve selected images\n",
    "    X = dataset[ix]\n",
    "    # generate 'real' class labels (1)\n",
    "    y = ones((n_samples, 1))\n",
    "    return X, y\n",
    " \n",
    "# generate n fake samples with class labels\n",
    "def generate_fake_samples(n_samples):\n",
    "    # generate uniform random numbers in [0,1]\n",
    "    X = rand(400 * 400 * n_samples * 3)\n",
    "    print(X)\n",
    "    # reshape into a batch of grayscale images\n",
    "    X = X.reshape((n_samples, 400, 400, 3))\n",
    "    # generate 'fake' class labels (0)\n",
    "    y = zeros((n_samples, 1))\n",
    "    return X, y\n",
    " \n",
    "# train the discriminator model\n",
    "def train_discriminator(model, dataset, n_iter=100, n_batch=256):\n",
    "    half_batch = int(n_batch / 2)\n",
    "    # manually enumerate epochs\n",
    "    for i in range(n_iter):\n",
    "        # get randomly selected 'real' samples\n",
    "        X_real, y_real = generate_real_samples(dataset, half_batch)\n",
    "        # update discriminator on real samples\n",
    "        _, real_acc = model.train_on_batch(X_real, y_real)\n",
    "        # generate 'fake' examples\n",
    "        X_fake, y_fake = generate_fake_samples(half_batch)\n",
    "        # update discriminator on fake samples\n",
    "        _, fake_acc = model.train_on_batch(X_fake, y_fake)\n",
    "        # summarize performance\n",
    "        print('>%d real=%.0f%% fake=%.0f%%' % (i+1, real_acc*100, fake_acc*100))"
   ]
  },
  {
   "cell_type": "code",
   "execution_count": null,
   "metadata": {},
   "outputs": [
    {
     "name": "stdout",
     "output_type": "stream",
     "text": [
      "[0.26656185 0.05025976 0.29805186 ... 0.83120083 0.99523693 0.66231958]\n",
      ">1 real=0% fake=0%\n",
      "[0.531737   0.29833123 0.62731885 ... 0.56081506 0.08151145 0.22727145]\n"
     ]
    }
   ],
   "source": [
    "# load image data\n",
    "dataset = load_real_samples()\n",
    "# fit the model\n",
    "train_discriminator(descriminator, dataset)"
   ]
  },
  {
   "cell_type": "code",
   "execution_count": null,
   "metadata": {},
   "outputs": [],
   "source": []
  },
  {
   "cell_type": "code",
   "execution_count": null,
   "metadata": {},
   "outputs": [],
   "source": []
  },
  {
   "cell_type": "code",
   "execution_count": null,
   "metadata": {},
   "outputs": [],
   "source": [
    "#Build Generator"
   ]
  },
  {
   "cell_type": "code",
   "execution_count": null,
   "metadata": {},
   "outputs": [],
   "source": [
    "#Train"
   ]
  },
  {
   "cell_type": "code",
   "execution_count": null,
   "metadata": {},
   "outputs": [],
   "source": [
    "#Test"
   ]
  }
 ],
 "metadata": {
  "kernelspec": {
   "display_name": "Python 3",
   "language": "python",
   "name": "python3"
  },
  "language_info": {
   "codemirror_mode": {
    "name": "ipython",
    "version": 3
   },
   "file_extension": ".py",
   "mimetype": "text/x-python",
   "name": "python",
   "nbconvert_exporter": "python",
   "pygments_lexer": "ipython3",
   "version": "3.7.4"
  }
 },
 "nbformat": 4,
 "nbformat_minor": 4
}
