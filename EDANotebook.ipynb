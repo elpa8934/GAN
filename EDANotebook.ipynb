{
 "cells": [
  {
   "cell_type": "markdown",
   "metadata": {},
   "source": [
    "# GAN Project\n",
    "## Liz Parker, Colin Craighead, and Aren Dalloul"
   ]
  },
  {
   "cell_type": "code",
   "execution_count": 2,
   "metadata": {},
   "outputs": [
    {
     "name": "stderr",
     "output_type": "stream",
     "text": [
      "Using TensorFlow backend.\n"
     ]
    }
   ],
   "source": [
    "import numpy as np\n",
    "import matplotlib.pyplot as plt\n",
    "import pandas as pd\n",
    "import tensorflow as tf\n",
    "from keras import layers\n",
    "from keras import models\n",
    "from keras import utils\n",
    "import tensorflow.keras.preprocessing.image as img\n",
    "import scipy.io\n",
    "from PIL import Image"
   ]
  },
  {
   "cell_type": "markdown",
   "metadata": {},
   "source": [
    "## Preparing the Dataset"
   ]
  },
  {
   "cell_type": "code",
   "execution_count": 3,
   "metadata": {},
   "outputs": [],
   "source": [
    "test_mat = scipy.io.loadmat(\"data/test_data.mat\")\n",
    "train_mat = scipy.io.loadmat(\"data/train_data.mat\")"
   ]
  },
  {
   "cell_type": "code",
   "execution_count": 4,
   "metadata": {},
   "outputs": [],
   "source": [
    "def unpack_mat(mat, train_or_test):\n",
    "    df = pd.DataFrame()\n",
    "    paths = []\n",
    "    breeds = []\n",
    "    breed_ids = []\n",
    "    num_datapoints = len(mat[train_or_test][0][0][0])\n",
    "    for i in range(num_datapoints):\n",
    "        path = \"data/images/\" + mat[train_or_test][0][0][0][i][0][0]\n",
    "        paths.append(path)\n",
    "        temp_arr = mat[train_or_test][0][0][1][i][0][0].strip().split('-')\n",
    "        breed_str = \"-\".join(temp_arr[1:]).split('/')[0]\n",
    "        breeds.append(breed_str)\n",
    "        breed_ids.append(mat[train_or_test][0][0][2][i][0])\n",
    "    df['breed'] = breeds\n",
    "    df['breed_id'] = breed_ids\n",
    "    df['path'] = paths\n",
    "    return df"
   ]
  },
  {
   "cell_type": "code",
   "execution_count": 5,
   "metadata": {},
   "outputs": [
    {
     "data": {
      "text/html": [
       "<div>\n",
       "<style scoped>\n",
       "    .dataframe tbody tr th:only-of-type {\n",
       "        vertical-align: middle;\n",
       "    }\n",
       "\n",
       "    .dataframe tbody tr th {\n",
       "        vertical-align: top;\n",
       "    }\n",
       "\n",
       "    .dataframe thead th {\n",
       "        text-align: right;\n",
       "    }\n",
       "</style>\n",
       "<table border=\"1\" class=\"dataframe\">\n",
       "  <thead>\n",
       "    <tr style=\"text-align: right;\">\n",
       "      <th></th>\n",
       "      <th>breed</th>\n",
       "      <th>breed_id</th>\n",
       "      <th>path</th>\n",
       "    </tr>\n",
       "  </thead>\n",
       "  <tbody>\n",
       "    <tr>\n",
       "      <th>0</th>\n",
       "      <td>Chihuahua</td>\n",
       "      <td>1</td>\n",
       "      <td>data/images/n02085620-Chihuahua/n02085620_5927...</td>\n",
       "    </tr>\n",
       "    <tr>\n",
       "      <th>1</th>\n",
       "      <td>Chihuahua</td>\n",
       "      <td>1</td>\n",
       "      <td>data/images/n02085620-Chihuahua/n02085620_4441...</td>\n",
       "    </tr>\n",
       "    <tr>\n",
       "      <th>2</th>\n",
       "      <td>Chihuahua</td>\n",
       "      <td>1</td>\n",
       "      <td>data/images/n02085620-Chihuahua/n02085620_1502...</td>\n",
       "    </tr>\n",
       "    <tr>\n",
       "      <th>3</th>\n",
       "      <td>Chihuahua</td>\n",
       "      <td>1</td>\n",
       "      <td>data/images/n02085620-Chihuahua/n02085620_1916...</td>\n",
       "    </tr>\n",
       "    <tr>\n",
       "      <th>4</th>\n",
       "      <td>Chihuahua</td>\n",
       "      <td>1</td>\n",
       "      <td>data/images/n02085620-Chihuahua/n02085620_1315...</td>\n",
       "    </tr>\n",
       "  </tbody>\n",
       "</table>\n",
       "</div>"
      ],
      "text/plain": [
       "       breed  breed_id                                               path\n",
       "0  Chihuahua         1  data/images/n02085620-Chihuahua/n02085620_5927...\n",
       "1  Chihuahua         1  data/images/n02085620-Chihuahua/n02085620_4441...\n",
       "2  Chihuahua         1  data/images/n02085620-Chihuahua/n02085620_1502...\n",
       "3  Chihuahua         1  data/images/n02085620-Chihuahua/n02085620_1916...\n",
       "4  Chihuahua         1  data/images/n02085620-Chihuahua/n02085620_1315..."
      ]
     },
     "execution_count": 5,
     "metadata": {},
     "output_type": "execute_result"
    }
   ],
   "source": [
    "train_df = unpack_mat(train_mat, 'train_info')\n",
    "test_df = unpack_mat(test_mat, 'test_info')\n",
    "train_df.head()"
   ]
  },
  {
   "cell_type": "code",
   "execution_count": 6,
   "metadata": {},
   "outputs": [
    {
     "name": "stdout",
     "output_type": "stream",
     "text": [
      "[[[ 30.  23.   5.]\n",
      "  [ 30.  23.   5.]\n",
      "  [ 30.  23.   5.]\n",
      "  ...\n",
      "  [ 65.  49.  13.]\n",
      "  [ 65.  49.  13.]\n",
      "  [ 65.  49.  13.]]\n",
      "\n",
      " [[ 30.  23.   5.]\n",
      "  [ 30.  23.   5.]\n",
      "  [ 30.  23.   5.]\n",
      "  ...\n",
      "  [ 65.  49.  13.]\n",
      "  [ 65.  49.  13.]\n",
      "  [ 65.  49.  13.]]\n",
      "\n",
      " [[ 30.  23.   5.]\n",
      "  [ 30.  23.   5.]\n",
      "  [ 30.  23.   5.]\n",
      "  ...\n",
      "  [ 65.  49.  13.]\n",
      "  [ 65.  49.  13.]\n",
      "  [ 65.  49.  13.]]\n",
      "\n",
      " ...\n",
      "\n",
      " [[110. 121. 113.]\n",
      "  [112. 123. 115.]\n",
      "  [115. 128. 119.]\n",
      "  ...\n",
      "  [ 93. 115. 103.]\n",
      "  [ 89. 111.  99.]\n",
      "  [ 79. 101.  89.]]\n",
      "\n",
      " [[115. 127. 125.]\n",
      "  [116. 128. 126.]\n",
      "  [118. 130. 126.]\n",
      "  ...\n",
      "  [ 84. 105.  96.]\n",
      "  [ 86. 107.  98.]\n",
      "  [ 82. 103.  94.]]\n",
      "\n",
      " [[116. 130. 130.]\n",
      "  [117. 132. 129.]\n",
      "  [118. 133. 130.]\n",
      "  ...\n",
      "  [ 85. 106.  97.]\n",
      "  [ 93. 114. 105.]\n",
      "  [ 95. 116. 107.]]]\n"
     ]
    }
   ],
   "source": [
    "X_train = np.array([img.img_to_array(img.load_img(path)) for path in train_df['path']])\n",
    "print(X_train[0])"
   ]
  },
  {
   "cell_type": "code",
   "execution_count": 7,
   "metadata": {},
   "outputs": [],
   "source": [
    "train_df['height'] = [x.shape[0] for x in X_train]\n",
    "train_df['width'] = [x.shape[1] for x in X_train]"
   ]
  },
  {
   "cell_type": "code",
   "execution_count": null,
   "metadata": {},
   "outputs": [],
   "source": []
  }
 ],
 "metadata": {
  "kernelspec": {
   "display_name": "Python 3",
   "language": "python",
   "name": "python3"
  },
  "language_info": {
   "codemirror_mode": {
    "name": "ipython",
    "version": 3
   },
   "file_extension": ".py",
   "mimetype": "text/x-python",
   "name": "python",
   "nbconvert_exporter": "python",
   "pygments_lexer": "ipython3",
   "version": "3.7.6"
  }
 },
 "nbformat": 4,
 "nbformat_minor": 4
}
